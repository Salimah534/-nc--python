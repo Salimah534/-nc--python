{
 "cells": [
  {
   "cell_type": "code",
   "execution_count": 2,
   "metadata": {},
   "outputs": [
    {
     "name": "stdout",
     "output_type": "stream",
     "text": [
      "合并完成，文件保存为: D:\\NCEP2_Daily_data\\combined_ncep_data.nc\n"
     ]
    }
   ],
   "source": [
    "import xarray as xr\n",
    "import os\n",
    "import glob\n",
    "\n",
    "# 指定数据文件夹\n",
    "data_folder = r'D:\\NCEP2_Daily_data'\n",
    "\n",
    "# 获取所有的 .nc 文件\n",
    "file_pattern = os.path.join(data_folder, '*.nc')\n",
    "files = glob.glob(file_pattern)\n",
    "\n",
    "# 创建一个空的字典来存储按年份分类的数据集\n",
    "yearly_datasets = {}\n",
    "\n",
    "# 遍历所有文件，按年份合并\n",
    "for file in files:\n",
    "    # 读取每个 NetCDF 文件\n",
    "    ds = xr.open_dataset(file)\n",
    "    \n",
    "    # 从文件的时间坐标中提取年份\n",
    "    year = ds.time.dt.year.values[0]\n",
    "    \n",
    "    # 如果该年份尚不存在于字典中，则添加\n",
    "    if year not in yearly_datasets:\n",
    "        yearly_datasets[year] = ds\n",
    "    else:\n",
    "        # 合并已有的数据集\n",
    "        yearly_datasets[year] = xr.concat([yearly_datasets[year], ds], dim='time')\n",
    "\n",
    "# 合并所有年份的数据并保存为新的 NetCDF 文件\n",
    "combined_dataset = xr.concat(list(yearly_datasets.values()), dim='time')\n",
    "\n",
    "# 保存到新的 NetCDF 文件\n",
    "output_file = os.path.join(data_folder, 'combined_ncep_data.nc')\n",
    "combined_dataset.to_netcdf(output_file)\n",
    "\n",
    "print(f'合并完成，文件保存为: {output_file}')"
   ]
  }
 ],
 "metadata": {
  "kernelspec": {
   "display_name": "base",
   "language": "python",
   "name": "python3"
  },
  "language_info": {
   "codemirror_mode": {
    "name": "ipython",
    "version": 3
   },
   "file_extension": ".py",
   "mimetype": "text/x-python",
   "name": "python",
   "nbconvert_exporter": "python",
   "pygments_lexer": "ipython3",
   "version": "3.12.4"
  }
 },
 "nbformat": 4,
 "nbformat_minor": 2
}
